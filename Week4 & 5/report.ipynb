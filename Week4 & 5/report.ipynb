{
  "cells": [
    {
      "cell_type": "markdown",
      "source": [
        "# Opening a New Hotel in Manhattan, United State"
      ],
      "metadata": {}
    },
    {
      "cell_type": "markdown",
      "source": [
        "## Peer-graded Assignment: Capstone Project - The Battle of Neighborhoods (Week 1)"
      ],
      "metadata": {}
    },
    {
      "cell_type": "markdown",
      "source": [
        "## Table of contends\n",
        "* [Introduction](#introduction )\n",
        "* [About Data](#data)\n",
        "* [Business Problem](#businessProblem)\n",
        "* [Methodology](#methodology)\n",
        "* [Analysis](#analysis)\n",
        "* [Results and Discussion](#results)\n",
        "* [Conclusion](#conclusion)\n",
        "* [References](#references)"
      ],
      "metadata": {}
    },
    {
      "cell_type": "markdown",
      "source": [
        "## Introduction <a name=\"introduction\"></a>"
      ],
      "metadata": {}
    },
    {
      "cell_type": "markdown",
      "source": [
        "For many tourists, traveling is a good way to relax. They can go shopping in local malls, admire cultural relics in museums, and enjoy local cuisine. The real estate industry also uses this trend to build more hotels in the city to cater to the needs of travelers. As a result, a large number of hotels were built in Manhattan. Of course, there are many commercial factors to consider when building a hotel. One of the most important factors is geographic location."
      ],
      "metadata": {}
    },
    {
      "cell_type": "markdown",
      "source": [
        "## Bussiness Problem <a name=\"bussinessProblem\"></a> \n",
        "The objective of this capstone project is to analyze and select the best locations in Manhattan to open a new hotel mainly for travelers. The project aims to provide solutions to answer the business question: In New York City if a property developer wants to open a new hotel which mainly provides services to travelers, where would you recommend that they open it?\n",
        "### Interested Audience\n",
        "I think that property developers and tourists are interesting audiences. On the one hand, the property developers can get more profits from where to build hotels. On the other hand, tourists can also know where to live when they visit Manhattan.\n",
        "\n"
      ],
      "metadata": {}
    },
    {
      "cell_type": "markdown",
      "source": [
        "## About Data <a name=\"data\"></a> "
      ],
      "metadata": {}
    },
    {
      "cell_type": "markdown",
      "source": [
        "![Neighborhood.png](./Neighborhood.png)"
      ],
      "metadata": {}
    },
    {
      "cell_type": "markdown",
      "source": [
        "### To solve the problem, we will need the following data:\n",
        "- List of Boroughs and neighborhoods of Manhattan with their geodata (latitude and longitude)\n",
        "- List of Subway metro stations in Manhattan with their address location \n",
        "- Venues data, particularly data related to travelers, for each Manhattan neighborhood (that can be clustered)\n",
        "\n",
        "### Data source:\n",
        "- https://geo.nyu.edu/catalog/nyu_2451_34572\n",
        "- Foursquare API\n",
        "\n",
        "### How data will be used to solve the problem\n",
        "1. The link above contains a list of neighborhoods in Manhattan, with a total of 5 boroughs and 306 neighborhoods. We will download it from that link. \n",
        "2. After that, we will use Foursquare API to get the venue data for those boroughs and neighborhoods.\n",
        "3. We need to select our interested information from those data, because the API will provide a lot of categories of data. \n",
        "4. Then, data cleaning, data wrangling will be done by using multiple machine learning skills in this process.\n",
        "5. Lastly, we will use K-means clustering and data visualization skills to show the result. "
      ],
      "metadata": {}
    },
    {
      "cell_type": "markdown",
      "source": [
        "## Methodology <a name=\"methodology\"></a>\n",
        "Firstly, we need to get the list of neighbourhoods in Manhattan. In this project, we use the data from this link (https://geo.nyu.edu/catalog/nyu_2451_34572). After gathering the data, we will populate the data inot a pandas dataframe and then visualize the neighbourhoods in a map by using Folium package. This allow us to perform a sanity check to make sure that the geographical coordinates data are correctly plotted in the manhattan.\n",
        "\n",
        "Next, we will use Foursquare API to get the top 200 venues that are within a radius of 1000 meters. We use the Foursquare Developer Account ,which registered in the previous section, to obtain the Foursquare ID and sercret key. We then make API calls to Foursquare passing the geographical coordinates of our Manhatten neighbourhoods. Foursquare will return the venue data in JSON format and we will extract the venue name, venue category, venue latitude and longitude. With the data, we can check how many venues were returnd for each neighbourhood and examine how many unique categories are needed. And we found that there are about 300 unique categories in those venue data. However, some of them are very similar, for example, \"Chinese Restuarant and India Resturant\". So I combine those kind of categories into one, like \"Resturant\". Also, tourists may go to a lot of attractions, but these types are very scattered, I also put these into one category. Categories like \"Art Gallery\",\"Theater\",\"Museum\",\"Park\",\"Historical Site\",\"Bar\",\"Stadium\" are combined into one category names \"Sites\". Then, we will analyse each neighbouthood by grouping the rows by neighbourhood and taking the mean of the frequency of occurrence of each venue category. Since we are analying the \"Hotel\" for visiters, we will filter the \"Restarant\", \"Hotel\",\"Sites\" as venue category for the neighbourhoods.\n",
        "\n",
        "Lastly, we will perform cluster on the data by useing k-means clustering. We firstly for loop from 0 to 10 to find the proper number of cluster. And base the elbow point we found, we set the three to the cluster number. The results will allow us to identify which cluster have high concentration of hotels while which neighbourhoods have fewer nuimber of hotel with plenty of \"sites\". Based on the occurence of hotels, resturant and sites, it will help us to answer the question as to which neighbourhoods are most suitable to open new hotels."
      ],
      "metadata": {}
    },
    {
      "cell_type": "markdown",
      "source": [
        "![elbow.png](./elbow.png)"
      ],
      "metadata": {}
    },
    {
      "cell_type": "markdown",
      "source": [
        "## Results and Discussion <a name=\"result\"></a>\n"
      ],
      "metadata": {}
    },
    {
      "cell_type": "markdown",
      "source": [
        "![cluster.png](./cluster.png)"
      ],
      "metadata": {}
    },
    {
      "cell_type": "markdown",
      "source": [
        "According to the results of clustering, we can see. First of all, the third category is definitely not our goal, because the number of restaurants and hotels is very small.\n",
        "Next, let's look at the first and second categories. In the first category, we find that restaurants, hotels and tourist attractions are relatively evenly distributed, but this shows that this area has undergone some development and competition may be fierce. The second type of area also has many equity and tourist attractions, but the number of hotels is relatively small. I think it is a good location to open a new hotel."
      ],
      "metadata": {}
    },
    {
      "cell_type": "markdown",
      "source": [
        "## Conclusion <a name=\"conclusion\"></a>"
      ],
      "metadata": {}
    },
    {
      "cell_type": "markdown",
      "source": [
        "Therefore, this project recommends property developers to capitalize on these findings to open new hotel in neighborhoods in cluster 1 with little to no competition. Property developers with unique selling propositions to stand out from the competition can also open new hotels in neighborhoods in cluster 0 with moderate competition. Lastly, property developers are advised to avoid neighborhoods in cluster 2 which lack of enough catering services."
      ],
      "metadata": {}
    },
    {
      "cell_type": "markdown",
      "source": [
        "## References <a name=\"References\"></a>\n",
        "- Foursquare Developers Documentation.  https://developer.foursquare.com/docs/\n"
      ],
      "metadata": {}
    },
    {
      "cell_type": "markdown",
      "source": [
        "#### Cluster 1\n",
        "Carnegie Hill\n",
        ",Chelsea \n",
        ",Civic Center \n",
        ",Clinton \n",
        ",Financial District\n",
        ",Flatiron\n",
        ",Gramercy \n",
        ",Hudson Yards \n",
        ",Lincoln Square \n",
        ",Marble Hill \n",
        ",Midtown \n",
        ",Morningside Heights \n",
        ",Roosevelt Island\n",
        ",Sutton Place \n",
        ",Tribeca\n",
        ",Upper East Side"
      ],
      "metadata": {}
    },
    {
      "cell_type": "markdown",
      "source": [
        "#### Cluster 2 \n",
        "Central Harlem\n",
        ",Chinatown\n",
        ",East Harlem \n",
        ",East Village\n",
        ",Greenwich Village\n",
        ",Hamilton Heights \n",
        ",Inwood\n",
        ",Lenox Hill \n",
        ",Little Italy \n",
        ",Lower East Side \n",
        ",Manhattan Valley\n",
        ",Manhattanville\n",
        ",Midtown South\n",
        ",Murray Hill\n",
        ",Noho\n",
        ",Soho\n",
        ",Tudor City\n",
        ",Turtle Bay\n",
        ",Upper West Side\n",
        ",Washington Heights \n",
        ",West Village\n",
        ",Yorkville"
      ],
      "metadata": {}
    },
    {
      "cell_type": "markdown",
      "source": [
        "#### Cluster 3\n",
        "Battery Park City \n",
        ",Stuyvesant Town"
      ],
      "metadata": {}
    }
  ],
  "metadata": {
    "pygments_lexer": "ipython3",
    "name": "python",
    "mimetype": "text/x-python",
    "npconvert_exporter": "python",
    "language_info": {
      "codemirror_mode": {
        "name": "ipython",
        "version": 3
      },
      "file_extension": ".py",
      "mimetype": "text/x-python",
      "name": "python",
      "nbconvert_exporter": "python",
      "pygments_lexer": "ipython3",
      "version": "3.7.6"
    },
    "version": 3,
    "kernelspec": {
      "display_name": "Python 3",
      "language": "python",
      "name": "python3"
    },
    "file_extension": ".py",
    "nteract": {
      "version": "0.23.3"
    }
  },
  "nbformat": 4,
  "nbformat_minor": 2
}