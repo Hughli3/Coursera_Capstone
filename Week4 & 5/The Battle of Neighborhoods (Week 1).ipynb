{
 "cells": [
  {
   "cell_type": "markdown",
   "metadata": {},
   "source": [
    "# Opening a New Hotel in New York City, United State"
   ]
  },
  {
   "cell_type": "markdown",
   "metadata": {},
   "source": [
    "## Peer-graded Assignment: Capstone Project - The Battle of Neighborhoods (Week 1)"
   ]
  },
  {
   "cell_type": "markdown",
   "metadata": {},
   "source": [
    "## Table of contends\n",
    "* [Introduction](#introduction )\n",
    "* [About Data](#data)\n",
    "* [Business Problem](#businessProblem)\n",
    "* [Analysis](#analysis)\n",
    "* [Results and Discussion](#results)\n",
    "* [Conclusion](#conclusion)"
   ]
  },
  {
   "cell_type": "markdown",
   "metadata": {},
   "source": [
    "## Introduction <a name=\"introduction\"></a>"
   ]
  },
  {
   "cell_type": "markdown",
   "metadata": {},
   "source": [
    "For many tourists, traveling is a good way to relax. They can go shopping in local malls, admire cultural relics in museums, and enjoy local cuisine. The real estate industry also uses this trend to build more hotels in the city to cater to the needs of travelers. As a result, a large number of hotels were built in Manhattan. Of course, there are many commercial factors to consider when building a hotel. One of the most important factors is geographic location."
   ]
  },
  {
   "cell_type": "markdown",
   "metadata": {},
   "source": [
    "## Bussiness Problem <a name=\"bussinessProblem\"></a> \n",
    "The objective of this capstone project is to analyze and select the best locations in Manhattan to open a new hotel mainly for travelers. The project aims to provide solutions to answer the business question: In New York City if a property developer wants to open a new hotel which mainly provides services to travelers, where would you recommend that they open it?\n",
    "### Interested Audience\n",
    "I think that property developers and tourists are interesting audiences. On the one hand, the property developers can get more profits from where to build hotels. On the other hand, tourists can also know where to live when they visit Manhattan.\n",
    "\n"
   ]
  },
  {
   "cell_type": "markdown",
   "metadata": {},
   "source": [
    "## About Data <a name=\"data\"></a> "
   ]
  },
  {
   "cell_type": "markdown",
   "metadata": {},
   "source": [
    "### To solve the problem, we will need the following data:\n",
    "- List of Boroughs and neighborhoods of Manhattan with their geodata (latitude and longitude)\n",
    "- List of Subway metro stations in Manhattan with their address location \n",
    "- Venues data, particularly data related to travelers, for each Manhattan neighborhood (that can be clustered)\n",
    "\n",
    "### Data source:\n",
    "- https://geo.nyu.edu/catalog/nyu_2451_34572\n",
    "- Foursquare API\n",
    "\n",
    "### How data will be used to solve the problem\n",
    "1. The link above contains a list of neighborhoods in Manhattan, with a total of 5 boroughs and 306 neighborhoods. We will download it from that link. \n",
    "2. After that, we will use Foursquare API to get the venue data for those boroughs and neighborhoods.\n",
    "3. We need to select our interested information from those data, because the API will provide a lot of categories of data. \n",
    "4. Then, data cleaning, data wrangling will be done by using multiple machine learning skills in this process.\n",
    "5. Lastly, we will use K-means clustering and data visualization skills to show the result. "
   ]
  },
  {
   "cell_type": "markdown",
   "metadata": {},
   "source": [
    "## Analysis <a name=\"analysis\"></a>\n"
   ]
  },
  {
   "cell_type": "markdown",
   "metadata": {},
   "source": [
    "### Import packages"
   ]
  },
  {
   "cell_type": "code",
   "execution_count": null,
   "metadata": {},
   "outputs": [],
   "source": [
    "import numbp as np \n",
    "import pandas as pd \n",
    "import folium\n",
    "from sklearn.cluster import KMeans\n"
   ]
  },
  {
   "cell_type": "code",
   "execution_count": null,
   "metadata": {},
   "outputs": [],
   "source": []
  },
  {
   "cell_type": "markdown",
   "metadata": {},
   "source": [
    "## Results and Discussion <a name=\"result\"></a>\n"
   ]
  },
  {
   "cell_type": "code",
   "execution_count": null,
   "metadata": {},
   "outputs": [],
   "source": []
  },
  {
   "cell_type": "markdown",
   "metadata": {},
   "source": [
    "## Conclusion <a name=\"conclusion\"></a>"
   ]
  },
  {
   "cell_type": "code",
   "execution_count": null,
   "metadata": {},
   "outputs": [],
   "source": []
  }
 ],
 "metadata": {
  "language_info": {
   "name": "python",
   "codemirror_mode": {
    "name": "ipython",
    "version": 3
   },
   "version": "3.7.6-final"
  },
  "orig_nbformat": 2,
  "file_extension": ".py",
  "mimetype": "text/x-python",
  "name": "python",
  "npconvert_exporter": "python",
  "pygments_lexer": "ipython3",
  "version": 3,
  "kernelspec": {
   "name": "python37664bitbaseconda60d9f71f03ac4fada2996fe98543161f",
   "display_name": "Python 3.7.6 64-bit ('base': conda)"
  }
 },
 "nbformat": 4,
 "nbformat_minor": 2
}