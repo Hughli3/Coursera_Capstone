{
 "nbformat": 4,
 "nbformat_minor": 2,
 "metadata": {
  "language_info": {
   "name": "python",
   "codemirror_mode": {
    "name": "ipython",
    "version": 3
   },
   "version": "3.7.6-final"
  },
  "orig_nbformat": 2,
  "file_extension": ".py",
  "mimetype": "text/x-python",
  "name": "python",
  "npconvert_exporter": "python",
  "pygments_lexer": "ipython3",
  "version": 3,
  "kernelspec": {
   "name": "python37664bitbaseconda60d9f71f03ac4fada2996fe98543161f",
   "display_name": "Python 3.7.6 64-bit ('base': conda)"
  }
 },
 "cells": [
  {
   "cell_type": "markdown",
   "metadata": {},
   "source": [
    "## Peer-graded Assignment: Capstone Project - The Battle of Neighborhoods (Week 1)"
   ]
  },
  {
   "cell_type": "markdown",
   "metadata": {},
   "source": [
    "## Table of contends\n",
    "* [Introduction](#introduction )\n",
    "* [About Data](#data)\n",
    "* [Methodology](#methodology)\n",
    "* [Analysis](#analysis)\n",
    "* [Results and Discussion](#results)\n",
    "* [Conclusion](#conclusion)"
   ]
  },
  {
   "cell_type": "markdown",
   "metadata": {},
   "source": [
    "## Introduction <a name=\"introduction\"></a>"
   ]
  },
  {
   "cell_type": "code",
   "execution_count": 1,
   "metadata": {},
   "outputs": [],
   "source": [
    "# Import packages\n",
    "\n",
    "import pandas as pd"
   ]
  },
  {
   "cell_type": "markdown",
   "metadata": {},
   "source": [
    "## About Data <a name=\"data\"></a>"
   ]
  },
  {
   "cell_type": "code",
   "execution_count": 2,
   "metadata": {},
   "outputs": [],
   "source": [
    "transaction_data = pd.read_csv(\"/Users/hughli/Documents/Learning/Share/OneDrive/abroad/Stevens/Courses/FE520/lab4/Homework4_Dataset/res_purchase_2014.csv\")"
   ]
  },
  {
   "cell_type": "code",
   "execution_count": 3,
   "metadata": {},
   "outputs": [
    {
     "output_type": "execute_result",
     "data": {
      "text/plain": "   Year-Month  Agency Number                Agency Name Cardholder Last Name  \\\n0      201307           1000  OKLAHOMA STATE UNIVERSITY                Mason   \n1      201307           1000  OKLAHOMA STATE UNIVERSITY                Mason   \n2      201307           1000  OKLAHOMA STATE UNIVERSITY               Massey   \n3      201307           1000  OKLAHOMA STATE UNIVERSITY               Massey   \n4      201307           1000  OKLAHOMA STATE UNIVERSITY        Mauro-Herrera   \n\n  Cardholder First Initial                   Description  Amount  \\\n0                        C              GENERAL PURCHASE     890   \n1                        C                  ROOM CHARGES  368.96   \n2                        J              GENERAL PURCHASE  165.82   \n3                        T              GENERAL PURCHASE   96.39   \n4                        M  HAMMERMILL COPY PLUS COPY EA  125.96   \n\n           Vendor Transaction Date     Posted Date  \\\n0           NACAS   7/30/2013 0:00  7/31/2013 0:00   \n1  SHERATON HOTEL   7/30/2013 0:00  7/31/2013 0:00   \n2  SEARS.COM 9300   7/29/2013 0:00  7/31/2013 0:00   \n3  WAL-MART #0137   7/30/2013 0:00  7/31/2013 0:00   \n4  STAPLES DIRECT   7/30/2013 0:00  7/31/2013 0:00   \n\n                        Merchant Category Code (MCC)  \n0        CHARITABLE AND SOCIAL SERVICE ORGANIZATIONS  \n1                                           SHERATON  \n2  DIRCT MARKETING/DIRCT MARKETERS--NOT ELSEWHERE...  \n3                    GROCERY STORES,AND SUPERMARKETS  \n4  STATIONERY, OFFICE SUPPLIES, PRINTING AND WRIT...  ",
      "text/html": "<div>\n<style scoped>\n    .dataframe tbody tr th:only-of-type {\n        vertical-align: middle;\n    }\n\n    .dataframe tbody tr th {\n        vertical-align: top;\n    }\n\n    .dataframe thead th {\n        text-align: right;\n    }\n</style>\n<table border=\"1\" class=\"dataframe\">\n  <thead>\n    <tr style=\"text-align: right;\">\n      <th></th>\n      <th>Year-Month</th>\n      <th>Agency Number</th>\n      <th>Agency Name</th>\n      <th>Cardholder Last Name</th>\n      <th>Cardholder First Initial</th>\n      <th>Description</th>\n      <th>Amount</th>\n      <th>Vendor</th>\n      <th>Transaction Date</th>\n      <th>Posted Date</th>\n      <th>Merchant Category Code (MCC)</th>\n    </tr>\n  </thead>\n  <tbody>\n    <tr>\n      <th>0</th>\n      <td>201307</td>\n      <td>1000</td>\n      <td>OKLAHOMA STATE UNIVERSITY</td>\n      <td>Mason</td>\n      <td>C</td>\n      <td>GENERAL PURCHASE</td>\n      <td>890</td>\n      <td>NACAS</td>\n      <td>7/30/2013 0:00</td>\n      <td>7/31/2013 0:00</td>\n      <td>CHARITABLE AND SOCIAL SERVICE ORGANIZATIONS</td>\n    </tr>\n    <tr>\n      <th>1</th>\n      <td>201307</td>\n      <td>1000</td>\n      <td>OKLAHOMA STATE UNIVERSITY</td>\n      <td>Mason</td>\n      <td>C</td>\n      <td>ROOM CHARGES</td>\n      <td>368.96</td>\n      <td>SHERATON HOTEL</td>\n      <td>7/30/2013 0:00</td>\n      <td>7/31/2013 0:00</td>\n      <td>SHERATON</td>\n    </tr>\n    <tr>\n      <th>2</th>\n      <td>201307</td>\n      <td>1000</td>\n      <td>OKLAHOMA STATE UNIVERSITY</td>\n      <td>Massey</td>\n      <td>J</td>\n      <td>GENERAL PURCHASE</td>\n      <td>165.82</td>\n      <td>SEARS.COM 9300</td>\n      <td>7/29/2013 0:00</td>\n      <td>7/31/2013 0:00</td>\n      <td>DIRCT MARKETING/DIRCT MARKETERS--NOT ELSEWHERE...</td>\n    </tr>\n    <tr>\n      <th>3</th>\n      <td>201307</td>\n      <td>1000</td>\n      <td>OKLAHOMA STATE UNIVERSITY</td>\n      <td>Massey</td>\n      <td>T</td>\n      <td>GENERAL PURCHASE</td>\n      <td>96.39</td>\n      <td>WAL-MART #0137</td>\n      <td>7/30/2013 0:00</td>\n      <td>7/31/2013 0:00</td>\n      <td>GROCERY STORES,AND SUPERMARKETS</td>\n    </tr>\n    <tr>\n      <th>4</th>\n      <td>201307</td>\n      <td>1000</td>\n      <td>OKLAHOMA STATE UNIVERSITY</td>\n      <td>Mauro-Herrera</td>\n      <td>M</td>\n      <td>HAMMERMILL COPY PLUS COPY EA</td>\n      <td>125.96</td>\n      <td>STAPLES DIRECT</td>\n      <td>7/30/2013 0:00</td>\n      <td>7/31/2013 0:00</td>\n      <td>STATIONERY, OFFICE SUPPLIES, PRINTING AND WRIT...</td>\n    </tr>\n  </tbody>\n</table>\n</div>"
     },
     "metadata": {},
     "execution_count": 3
    }
   ],
   "source": [
    "transaction_data.head()"
   ]
  },
  {
   "cell_type": "markdown",
   "metadata": {},
   "source": [
    "## Methodology <a name=\"methodology\"></a> \n"
   ]
  },
  {
   "cell_type": "code",
   "execution_count": null,
   "metadata": {},
   "outputs": [],
   "source": []
  },
  {
   "cell_type": "markdown",
   "metadata": {},
   "source": [
    "## Analysis <a name=\"analysis\"></a>\n"
   ]
  },
  {
   "cell_type": "code",
   "execution_count": null,
   "metadata": {},
   "outputs": [],
   "source": []
  },
  {
   "cell_type": "markdown",
   "metadata": {},
   "source": [
    "## Results and Discussion <a name= \"result\"></a>\n"
   ]
  },
  {
   "cell_type": "code",
   "execution_count": null,
   "metadata": {},
   "outputs": [],
   "source": []
  },
  {
   "cell_type": "markdown",
   "metadata": {},
   "source": [
    "## Conclusion <a name= \"conclusion\"></a>"
   ]
  },
  {
   "cell_type": "code",
   "execution_count": null,
   "metadata": {},
   "outputs": [],
   "source": []
  }
 ]
}